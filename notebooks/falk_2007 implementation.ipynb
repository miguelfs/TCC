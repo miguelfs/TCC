{
 "cells": [
  {
   "cell_type": "code",
   "execution_count": 46,
   "id": "cc71eec3",
   "metadata": {},
   "outputs": [],
   "source": [
    "import numpy as np\n",
    "from scipy import signal\n",
    "from matplotlib import pyplot as plt\n",
    "\n",
    "import numpy as np\n",
    "from nsgt import NSGT, LogScale, LinScale, MelScale, OctScale\n",
    "\n",
    "try:\n",
    "    from scikits.audiolab import Sndfile, Format\n",
    "except:\n",
    "    Sndfile = None\n",
    "    \n",
    "if Sndfile is None:\n",
    "    from pysndfile import PySndfile, construct_format\n",
    "    \n",
    "import os"
   ]
  },
  {
   "cell_type": "code",
   "execution_count": 24,
   "id": "6f85e4a3",
   "metadata": {},
   "outputs": [],
   "source": [
    "def ms_to_samples(ms):\n",
    "    return ms * fs // 1000"
   ]
  },
  {
   "cell_type": "code",
   "execution_count": 36,
   "id": "cd5664f6",
   "metadata": {},
   "outputs": [
    {
     "ename": "SyntaxError",
     "evalue": "invalid syntax (237635316.py, line 1)",
     "output_type": "error",
     "traceback": [
      "\u001b[0;36m  File \u001b[0;32m\"/var/folders/hp/dg3yx9w9181005gv0qzltxq00000gn/T/ipykernel_23867/237635316.py\"\u001b[0;36m, line \u001b[0;32m1\u001b[0m\n\u001b[0;31m    [0:10]\u001b[0m\n\u001b[0m      ^\u001b[0m\n\u001b[0;31mSyntaxError\u001b[0m\u001b[0;31m:\u001b[0m invalid syntax\n"
     ]
    }
   ],
   "source": [
    "[0:10]"
   ]
  },
  {
   "cell_type": "code",
   "execution_count": 42,
   "id": "1c2cb3b9",
   "metadata": {},
   "outputs": [],
   "source": []
  },
  {
   "cell_type": "code",
   "execution_count": 50,
   "id": "66bab71e",
   "metadata": {},
   "outputs": [
    {
     "data": {
      "text/plain": [
       "array([], shape=(0, 1, 2, 3, 4, 5, 6, 7, 8, 9), dtype=float64)"
      ]
     },
     "execution_count": 50,
     "metadata": {},
     "output_type": "execute_result"
    }
   ],
   "source": []
  },
  {
   "cell_type": "code",
   "execution_count": 92,
   "id": "b8238755",
   "metadata": {},
   "outputs": [],
   "source": [
    "fs = 8000\n",
    "n = np.arange(ms_to_samples(10))\n",
    "x = np.cos(2*np.pi * 100 * n / fs)"
   ]
  },
  {
   "cell_type": "code",
   "execution_count": 97,
   "id": "dcd94793",
   "metadata": {},
   "outputs": [],
   "source": [
    "scl = LinScale(1, fs//2, 131)\n"
   ]
  },
  {
   "cell_type": "code",
   "execution_count": 98,
   "id": "9e8581d0",
   "metadata": {},
   "outputs": [],
   "source": [
    "frqs, q = scl()"
   ]
  },
  {
   "cell_type": "code",
   "execution_count": 99,
   "id": "03d9a756",
   "metadata": {},
   "outputs": [
    {
     "data": {
      "text/plain": [
       "array([1.00000000e+00, 3.17615385e+01, 6.25230769e+01, 9.32846154e+01,\n",
       "       1.24046154e+02, 1.54807692e+02, 1.85569231e+02, 2.16330769e+02,\n",
       "       2.47092308e+02, 2.77853846e+02, 3.08615385e+02, 3.39376923e+02,\n",
       "       3.70138462e+02, 4.00900000e+02, 4.31661538e+02, 4.62423077e+02,\n",
       "       4.93184615e+02, 5.23946154e+02, 5.54707692e+02, 5.85469231e+02,\n",
       "       6.16230769e+02, 6.46992308e+02, 6.77753846e+02, 7.08515385e+02,\n",
       "       7.39276923e+02, 7.70038462e+02, 8.00800000e+02, 8.31561538e+02,\n",
       "       8.62323077e+02, 8.93084615e+02, 9.23846154e+02, 9.54607692e+02,\n",
       "       9.85369231e+02, 1.01613077e+03, 1.04689231e+03, 1.07765385e+03,\n",
       "       1.10841538e+03, 1.13917692e+03, 1.16993846e+03, 1.20070000e+03,\n",
       "       1.23146154e+03, 1.26222308e+03, 1.29298462e+03, 1.32374615e+03,\n",
       "       1.35450769e+03, 1.38526923e+03, 1.41603077e+03, 1.44679231e+03,\n",
       "       1.47755385e+03, 1.50831538e+03, 1.53907692e+03, 1.56983846e+03,\n",
       "       1.60060000e+03, 1.63136154e+03, 1.66212308e+03, 1.69288462e+03,\n",
       "       1.72364615e+03, 1.75440769e+03, 1.78516923e+03, 1.81593077e+03,\n",
       "       1.84669231e+03, 1.87745385e+03, 1.90821538e+03, 1.93897692e+03,\n",
       "       1.96973846e+03, 2.00050000e+03, 2.03126154e+03, 2.06202308e+03,\n",
       "       2.09278462e+03, 2.12354615e+03, 2.15430769e+03, 2.18506923e+03,\n",
       "       2.21583077e+03, 2.24659231e+03, 2.27735385e+03, 2.30811538e+03,\n",
       "       2.33887692e+03, 2.36963846e+03, 2.40040000e+03, 2.43116154e+03,\n",
       "       2.46192308e+03, 2.49268462e+03, 2.52344615e+03, 2.55420769e+03,\n",
       "       2.58496923e+03, 2.61573077e+03, 2.64649231e+03, 2.67725385e+03,\n",
       "       2.70801538e+03, 2.73877692e+03, 2.76953846e+03, 2.80030000e+03,\n",
       "       2.83106154e+03, 2.86182308e+03, 2.89258462e+03, 2.92334615e+03,\n",
       "       2.95410769e+03, 2.98486923e+03, 3.01563077e+03, 3.04639231e+03,\n",
       "       3.07715385e+03, 3.10791538e+03, 3.13867692e+03, 3.16943846e+03,\n",
       "       3.20020000e+03, 3.23096154e+03, 3.26172308e+03, 3.29248462e+03,\n",
       "       3.32324615e+03, 3.35400769e+03, 3.38476923e+03, 3.41553077e+03,\n",
       "       3.44629231e+03, 3.47705385e+03, 3.50781538e+03, 3.53857692e+03,\n",
       "       3.56933846e+03, 3.60010000e+03, 3.63086154e+03, 3.66162308e+03,\n",
       "       3.69238462e+03, 3.72314615e+03, 3.75390769e+03, 3.78466923e+03,\n",
       "       3.81543077e+03, 3.84619231e+03, 3.87695385e+03, 3.90771538e+03,\n",
       "       3.93847692e+03, 3.96923846e+03, 4.00000000e+03])"
      ]
     },
     "execution_count": 99,
     "metadata": {},
     "output_type": "execute_result"
    }
   ],
   "source": [
    "frqs"
   ]
  },
  {
   "cell_type": "code",
   "execution_count": 63,
   "id": "9643dc1f",
   "metadata": {},
   "outputs": [
    {
     "ename": "TypeError",
     "evalue": "__init__() missing 3 required positional arguments: 'fmin', 'fmax', and 'bnds'",
     "output_type": "error",
     "traceback": [
      "\u001b[0;31m---------------------------------------------------------------------------\u001b[0m",
      "\u001b[0;31mTypeError\u001b[0m                                 Traceback (most recent call last)",
      "\u001b[0;32m/var/folders/hp/dg3yx9w9181005gv0qzltxq00000gn/T/ipykernel_23867/3327251347.py\u001b[0m in \u001b[0;36m<module>\u001b[0;34m\u001b[0m\n\u001b[1;32m      1\u001b[0m \u001b[0mscl\u001b[0m \u001b[0;34m=\u001b[0m \u001b[0mLinScale\u001b[0m\u001b[0;34m(\u001b[0m\u001b[0;36m1\u001b[0m\u001b[0;34m,\u001b[0m \u001b[0mfs\u001b[0m\u001b[0;34m//\u001b[0m\u001b[0;36m2\u001b[0m\u001b[0;34m,\u001b[0m \u001b[0;36m51\u001b[0m\u001b[0;34m)\u001b[0m\u001b[0;34m\u001b[0m\u001b[0;34m\u001b[0m\u001b[0m\n\u001b[0;32m----> 2\u001b[0;31m \u001b[0mnsgt\u001b[0m \u001b[0;34m=\u001b[0m \u001b[0mNSGT\u001b[0m\u001b[0;34m(\u001b[0m\u001b[0mLinScale\u001b[0m\u001b[0;34m,\u001b[0m \u001b[0mfs\u001b[0m\u001b[0;34m,\u001b[0m \u001b[0mlen\u001b[0m\u001b[0;34m(\u001b[0m\u001b[0mn\u001b[0m\u001b[0;34m)\u001b[0m\u001b[0;34m)\u001b[0m\u001b[0;34m\u001b[0m\u001b[0;34m\u001b[0m\u001b[0m\n\u001b[0m",
      "\u001b[0;32m~/Developer/miniconda3/envs/smt_env/lib/python3.9/site-packages/nsgt-0.19-py3.9.egg/nsgt/cq.py\u001b[0m in \u001b[0;36m__init__\u001b[0;34m(self, scale, fs, Ls, real, matrixform, reducedform, multichannel, measurefft, multithreading, dtype)\u001b[0m\n\u001b[1;32m     46\u001b[0m         \u001b[0mself\u001b[0m\u001b[0;34m.\u001b[0m\u001b[0mreducedform\u001b[0m \u001b[0;34m=\u001b[0m \u001b[0mreducedform\u001b[0m\u001b[0;34m\u001b[0m\u001b[0;34m\u001b[0m\u001b[0m\n\u001b[1;32m     47\u001b[0m \u001b[0;34m\u001b[0m\u001b[0m\n\u001b[0;32m---> 48\u001b[0;31m         \u001b[0mself\u001b[0m\u001b[0;34m.\u001b[0m\u001b[0mfrqs\u001b[0m\u001b[0;34m,\u001b[0m\u001b[0mself\u001b[0m\u001b[0;34m.\u001b[0m\u001b[0mq\u001b[0m \u001b[0;34m=\u001b[0m \u001b[0mscale\u001b[0m\u001b[0;34m(\u001b[0m\u001b[0;34m)\u001b[0m\u001b[0;34m\u001b[0m\u001b[0;34m\u001b[0m\u001b[0m\n\u001b[0m\u001b[1;32m     49\u001b[0m \u001b[0;34m\u001b[0m\u001b[0m\n\u001b[1;32m     50\u001b[0m         \u001b[0;31m# calculate transform parameters\u001b[0m\u001b[0;34m\u001b[0m\u001b[0;34m\u001b[0m\u001b[0m\n",
      "\u001b[0;31mTypeError\u001b[0m: __init__() missing 3 required positional arguments: 'fmin', 'fmax', and 'bnds'"
     ]
    }
   ],
   "source": [
    "scl = LinScale(1, fs//2, 51)\n",
    "nsgt = NSGT(LinScale, fs, len(n))\n"
   ]
  },
  {
   "cell_type": "code",
   "execution_count": 6,
   "id": "566ffdef",
   "metadata": {},
   "outputs": [],
   "source": [
    "w = np.sqrt(signal.hann(ms_to_samples(10)))"
   ]
  },
  {
   "cell_type": "code",
   "execution_count": null,
   "id": "3b6bbdcf",
   "metadata": {},
   "outputs": [],
   "source": []
  }
 ],
 "metadata": {
  "kernelspec": {
   "display_name": "Python 3 (ipykernel)",
   "language": "python",
   "name": "python3"
  },
  "language_info": {
   "codemirror_mode": {
    "name": "ipython",
    "version": 3
   },
   "file_extension": ".py",
   "mimetype": "text/x-python",
   "name": "python",
   "nbconvert_exporter": "python",
   "pygments_lexer": "ipython3",
   "version": "3.9.7"
  }
 },
 "nbformat": 4,
 "nbformat_minor": 5
}
